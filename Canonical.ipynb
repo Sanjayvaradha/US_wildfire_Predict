{
 "cells": [
  {
   "cell_type": "code",
   "execution_count": 24,
   "id": "fe48ddbc",
   "metadata": {},
   "outputs": [],
   "source": [
    "import sqlite3\n",
    "import pandas as pd\n",
    "import matplotlib.pyplot as plt\n",
    "import numpy as np\n",
    "import pickle\n",
    "\n",
    "from sklearn import tree, preprocessing\n",
    "import sklearn.ensemble as ske\n",
    "from sklearn.model_selection import train_test_split\n",
    "from keras.utils.np_utils import to_categorical"
   ]
  },
  {
   "cell_type": "code",
   "execution_count": 25,
   "id": "ca1002c7",
   "metadata": {},
   "outputs": [],
   "source": [
    "connect = sqlite3.connect('FPA_FOD_20170508.sqlite')"
   ]
  },
  {
   "cell_type": "markdown",
   "id": "83fdb1e3",
   "metadata": {},
   "source": [
    "# Have wildfires become more or less frequent over time?"
   ]
  },
  {
   "cell_type": "code",
   "execution_count": 6,
   "id": "aa7e4e5e",
   "metadata": {},
   "outputs": [
    {
     "data": {
      "text/plain": [
       "<AxesSubplot:xlabel='FIRE_YEAR'>"
      ]
     },
     "execution_count": 6,
     "metadata": {},
     "output_type": "execute_result"
    },
    {
     "data": {
      "image/png": "[encoded data removed]",
      "text/plain": [
       "<Figure size 432x288 with 1 Axes>"
      ]
     },
     "metadata": {
      "needs_background": "light"
     },
     "output_type": "display_data"
    }
   ],
   "source": [
    "df1 = pd.read_sql_query(\"SELECT COUNT(OBJECTID) AS COUNTS_PERYEAR, FIRE_YEAR FROM Fires GROUP BY FIRE_YEAR;\", connect)\n",
    "df1.set_index(\"FIRE_YEAR\").plot(kind=\"bar\",color='blue')"
   ]
  },
  {
   "cell_type": "code",
   "execution_count": 63,
   "id": "accb0fcc",
   "metadata": {},
   "outputs": [
    {
     "data": {
      "text/plain": [
       "<AxesSubplot:xlabel='FIRE_YEAR'>"
      ]
     },
     "execution_count": 63,
     "metadata": {},
     "output_type": "execute_result"
    },
    {
     "data": {
      "image/png": "[encoded data removed]",
      "text/plain": [
       "<Figure size 432x288 with 1 Axes>"
      ]
     },
     "metadata": {
      "needs_background": "light"
     },
     "output_type": "display_data"
    }
   ],
   "source": [
    "df1 = pd.read_sql_query(\"SELECT SUM(FIRE_SIZE) AS FIRE_SIZE, FIRE_YEAR FROM Fires GROUP BY FIRE_YEAR;\", connect)\n",
    "df1.set_index(\"FIRE_YEAR\").plot(kind=\"bar\", color='blue')"
   ]
  },
  {
   "cell_type": "code",
   "execution_count": null,
   "id": "434be1dc",
   "metadata": {},
   "outputs": [],
   "source": [
    "# The wildfire count per year is at random while peaking at the year 2006. The size of the wildfire does not shows constant rise but there is more frequent every year."
   ]
  },
  {
   "cell_type": "code",
   "execution_count": 13,
   "id": "c9bb9f10",
   "metadata": {},
   "outputs": [
    {
     "data": {
      "text/html": [
       "<div>\n",
       "<style scoped>\n",
       "    .dataframe tbody tr th:only-of-type {\n",
       "        vertical-align: middle;\n",
       "    }\n",
       "\n",
       "    .dataframe tbody tr th {\n",
       "        vertical-align: top;\n",
       "    }\n",
       "\n",
       "    .dataframe thead th {\n",
       "        text-align: right;\n",
       "    }\n",
       "</style>\n",
       "<table border=\"1\" class=\"dataframe\">\n",
       "  <thead>\n",
       "    <tr style=\"text-align: right;\">\n",
       "      <th></th>\n",
       "      <th>FIRE_YEAR</th>\n",
       "      <th>STAT_CAUSE_DESCR</th>\n",
       "      <th>LATITUDE</th>\n",
       "      <th>LONGITUDE</th>\n",
       "      <th>STATE</th>\n",
       "      <th>DISCOVERY_DATE</th>\n",
       "      <th>FIRE_SIZE</th>\n",
       "    </tr>\n",
       "  </thead>\n",
       "  <tbody>\n",
       "    <tr>\n",
       "      <th>0</th>\n",
       "      <td>2005</td>\n",
       "      <td>Miscellaneous</td>\n",
       "      <td>40.036944</td>\n",
       "      <td>-121.005833</td>\n",
       "      <td>CA</td>\n",
       "      <td>2453403.5</td>\n",
       "      <td>0.10</td>\n",
       "    </tr>\n",
       "    <tr>\n",
       "      <th>1</th>\n",
       "      <td>2004</td>\n",
       "      <td>Lightning</td>\n",
       "      <td>38.933056</td>\n",
       "      <td>-120.404444</td>\n",
       "      <td>CA</td>\n",
       "      <td>2453137.5</td>\n",
       "      <td>0.25</td>\n",
       "    </tr>\n",
       "    <tr>\n",
       "      <th>2</th>\n",
       "      <td>2004</td>\n",
       "      <td>Debris Burning</td>\n",
       "      <td>38.984167</td>\n",
       "      <td>-120.735556</td>\n",
       "      <td>CA</td>\n",
       "      <td>2453156.5</td>\n",
       "      <td>0.10</td>\n",
       "    </tr>\n",
       "    <tr>\n",
       "      <th>3</th>\n",
       "      <td>2004</td>\n",
       "      <td>Lightning</td>\n",
       "      <td>38.559167</td>\n",
       "      <td>-119.913333</td>\n",
       "      <td>CA</td>\n",
       "      <td>2453184.5</td>\n",
       "      <td>0.10</td>\n",
       "    </tr>\n",
       "    <tr>\n",
       "      <th>4</th>\n",
       "      <td>2004</td>\n",
       "      <td>Lightning</td>\n",
       "      <td>38.559167</td>\n",
       "      <td>-119.933056</td>\n",
       "      <td>CA</td>\n",
       "      <td>2453184.5</td>\n",
       "      <td>0.10</td>\n",
       "    </tr>\n",
       "  </tbody>\n",
       "</table>\n",
       "</div>"
      ],
      "text/plain": [
       "   FIRE_YEAR STAT_CAUSE_DESCR   LATITUDE   LONGITUDE STATE  DISCOVERY_DATE  \\\n",
       "0       2005    Miscellaneous  40.036944 -121.005833    CA       2453403.5   \n",
       "1       2004        Lightning  38.933056 -120.404444    CA       2453137.5   \n",
       "2       2004   Debris Burning  38.984167 -120.735556    CA       2453156.5   \n",
       "3       2004        Lightning  38.559167 -119.913333    CA       2453184.5   \n",
       "4       2004        Lightning  38.559167 -119.933056    CA       2453184.5   \n",
       "\n",
       "   FIRE_SIZE  \n",
       "0       0.10  \n",
       "1       0.25  \n",
       "2       0.10  \n",
       "3       0.10  \n",
       "4       0.10  "
      ]
     },
     "execution_count": 13,
     "metadata": {},
     "output_type": "execute_result"
    }
   ],
   "source": [
    "df = pd.read_sql_query(\"SELECT FIRE_YEAR,STAT_CAUSE_DESCR,LATITUDE,LONGITUDE,STATE,DISCOVERY_DATE,FIRE_SIZE FROM 'Fires'\", connect)\n",
    "df.head()"
   ]
  },
  {
   "cell_type": "code",
   "execution_count": 14,
   "id": "92431a04",
   "metadata": {},
   "outputs": [
    {
     "data": {
      "text/html": [
       "<div>\n",
       "<style scoped>\n",
       "    .dataframe tbody tr th:only-of-type {\n",
       "        vertical-align: middle;\n",
       "    }\n",
       "\n",
       "    .dataframe tbody tr th {\n",
       "        vertical-align: top;\n",
       "    }\n",
       "\n",
       "    .dataframe thead th {\n",
       "        text-align: right;\n",
       "    }\n",
       "</style>\n",
       "<table border=\"1\" class=\"dataframe\">\n",
       "  <thead>\n",
       "    <tr style=\"text-align: right;\">\n",
       "      <th></th>\n",
       "      <th>FIRE_YEAR</th>\n",
       "      <th>STAT_CAUSE_DESCR</th>\n",
       "      <th>LATITUDE</th>\n",
       "      <th>LONGITUDE</th>\n",
       "      <th>STATE</th>\n",
       "      <th>DISCOVERY_DATE</th>\n",
       "      <th>FIRE_SIZE</th>\n",
       "      <th>DATE</th>\n",
       "    </tr>\n",
       "  </thead>\n",
       "  <tbody>\n",
       "    <tr>\n",
       "      <th>0</th>\n",
       "      <td>2005</td>\n",
       "      <td>Miscellaneous</td>\n",
       "      <td>40.036944</td>\n",
       "      <td>-121.005833</td>\n",
       "      <td>CA</td>\n",
       "      <td>2453403.5</td>\n",
       "      <td>0.10</td>\n",
       "      <td>2005-02-02</td>\n",
       "    </tr>\n",
       "    <tr>\n",
       "      <th>1</th>\n",
       "      <td>2004</td>\n",
       "      <td>Lightning</td>\n",
       "      <td>38.933056</td>\n",
       "      <td>-120.404444</td>\n",
       "      <td>CA</td>\n",
       "      <td>2453137.5</td>\n",
       "      <td>0.25</td>\n",
       "      <td>2004-05-12</td>\n",
       "    </tr>\n",
       "    <tr>\n",
       "      <th>2</th>\n",
       "      <td>2004</td>\n",
       "      <td>Debris Burning</td>\n",
       "      <td>38.984167</td>\n",
       "      <td>-120.735556</td>\n",
       "      <td>CA</td>\n",
       "      <td>2453156.5</td>\n",
       "      <td>0.10</td>\n",
       "      <td>2004-05-31</td>\n",
       "    </tr>\n",
       "    <tr>\n",
       "      <th>3</th>\n",
       "      <td>2004</td>\n",
       "      <td>Lightning</td>\n",
       "      <td>38.559167</td>\n",
       "      <td>-119.913333</td>\n",
       "      <td>CA</td>\n",
       "      <td>2453184.5</td>\n",
       "      <td>0.10</td>\n",
       "      <td>2004-06-28</td>\n",
       "    </tr>\n",
       "    <tr>\n",
       "      <th>4</th>\n",
       "      <td>2004</td>\n",
       "      <td>Lightning</td>\n",
       "      <td>38.559167</td>\n",
       "      <td>-119.933056</td>\n",
       "      <td>CA</td>\n",
       "      <td>2453184.5</td>\n",
       "      <td>0.10</td>\n",
       "      <td>2004-06-28</td>\n",
       "    </tr>\n",
       "  </tbody>\n",
       "</table>\n",
       "</div>"
      ],
      "text/plain": [
       "   FIRE_YEAR STAT_CAUSE_DESCR   LATITUDE   LONGITUDE STATE  DISCOVERY_DATE  \\\n",
       "0       2005    Miscellaneous  40.036944 -121.005833    CA       2453403.5   \n",
       "1       2004        Lightning  38.933056 -120.404444    CA       2453137.5   \n",
       "2       2004   Debris Burning  38.984167 -120.735556    CA       2453156.5   \n",
       "3       2004        Lightning  38.559167 -119.913333    CA       2453184.5   \n",
       "4       2004        Lightning  38.559167 -119.933056    CA       2453184.5   \n",
       "\n",
       "   FIRE_SIZE       DATE  \n",
       "0       0.10 2005-02-02  \n",
       "1       0.25 2004-05-12  \n",
       "2       0.10 2004-05-31  \n",
       "3       0.10 2004-06-28  \n",
       "4       0.10 2004-06-28  "
      ]
     },
     "execution_count": 14,
     "metadata": {},
     "output_type": "execute_result"
    }
   ],
   "source": [
    "df['DATE'] = pd.to_datetime(df['DISCOVERY_DATE'] - pd.Timestamp(0).to_julian_date(), unit='D')\n",
    "df.head()"
   ]
  },
  {
   "cell_type": "code",
   "execution_count": 15,
   "id": "cc6bfbb9",
   "metadata": {},
   "outputs": [
    {
     "data": {
      "text/html": [
       "<div>\n",
       "<style scoped>\n",
       "    .dataframe tbody tr th:only-of-type {\n",
       "        vertical-align: middle;\n",
       "    }\n",
       "\n",
       "    .dataframe tbody tr th {\n",
       "        vertical-align: top;\n",
       "    }\n",
       "\n",
       "    .dataframe thead th {\n",
       "        text-align: right;\n",
       "    }\n",
       "</style>\n",
       "<table border=\"1\" class=\"dataframe\">\n",
       "  <thead>\n",
       "    <tr style=\"text-align: right;\">\n",
       "      <th></th>\n",
       "      <th>FIRE_YEAR</th>\n",
       "      <th>STAT_CAUSE_DESCR</th>\n",
       "      <th>LATITUDE</th>\n",
       "      <th>LONGITUDE</th>\n",
       "      <th>STATE</th>\n",
       "      <th>DISCOVERY_DATE</th>\n",
       "      <th>FIRE_SIZE</th>\n",
       "      <th>DATE</th>\n",
       "      <th>MONTH</th>\n",
       "      <th>DAY_OF_WEEK</th>\n",
       "    </tr>\n",
       "  </thead>\n",
       "  <tbody>\n",
       "    <tr>\n",
       "      <th>0</th>\n",
       "      <td>2005</td>\n",
       "      <td>Miscellaneous</td>\n",
       "      <td>40.036944</td>\n",
       "      <td>-121.005833</td>\n",
       "      <td>CA</td>\n",
       "      <td>2453403.5</td>\n",
       "      <td>0.10</td>\n",
       "      <td>2005-02-02</td>\n",
       "      <td>2</td>\n",
       "      <td>Wednesday</td>\n",
       "    </tr>\n",
       "    <tr>\n",
       "      <th>1</th>\n",
       "      <td>2004</td>\n",
       "      <td>Lightning</td>\n",
       "      <td>38.933056</td>\n",
       "      <td>-120.404444</td>\n",
       "      <td>CA</td>\n",
       "      <td>2453137.5</td>\n",
       "      <td>0.25</td>\n",
       "      <td>2004-05-12</td>\n",
       "      <td>5</td>\n",
       "      <td>Wednesday</td>\n",
       "    </tr>\n",
       "    <tr>\n",
       "      <th>2</th>\n",
       "      <td>2004</td>\n",
       "      <td>Debris Burning</td>\n",
       "      <td>38.984167</td>\n",
       "      <td>-120.735556</td>\n",
       "      <td>CA</td>\n",
       "      <td>2453156.5</td>\n",
       "      <td>0.10</td>\n",
       "      <td>2004-05-31</td>\n",
       "      <td>5</td>\n",
       "      <td>Monday</td>\n",
       "    </tr>\n",
       "    <tr>\n",
       "      <th>3</th>\n",
       "      <td>2004</td>\n",
       "      <td>Lightning</td>\n",
       "      <td>38.559167</td>\n",
       "      <td>-119.913333</td>\n",
       "      <td>CA</td>\n",
       "      <td>2453184.5</td>\n",
       "      <td>0.10</td>\n",
       "      <td>2004-06-28</td>\n",
       "      <td>6</td>\n",
       "      <td>Monday</td>\n",
       "    </tr>\n",
       "    <tr>\n",
       "      <th>4</th>\n",
       "      <td>2004</td>\n",
       "      <td>Lightning</td>\n",
       "      <td>38.559167</td>\n",
       "      <td>-119.933056</td>\n",
       "      <td>CA</td>\n",
       "      <td>2453184.5</td>\n",
       "      <td>0.10</td>\n",
       "      <td>2004-06-28</td>\n",
       "      <td>6</td>\n",
       "      <td>Monday</td>\n",
       "    </tr>\n",
       "  </tbody>\n",
       "</table>\n",
       "</div>"
      ],
      "text/plain": [
       "   FIRE_YEAR STAT_CAUSE_DESCR   LATITUDE   LONGITUDE STATE  DISCOVERY_DATE  \\\n",
       "0       2005    Miscellaneous  40.036944 -121.005833    CA       2453403.5   \n",
       "1       2004        Lightning  38.933056 -120.404444    CA       2453137.5   \n",
       "2       2004   Debris Burning  38.984167 -120.735556    CA       2453156.5   \n",
       "3       2004        Lightning  38.559167 -119.913333    CA       2453184.5   \n",
       "4       2004        Lightning  38.559167 -119.933056    CA       2453184.5   \n",
       "\n",
       "   FIRE_SIZE       DATE  MONTH DAY_OF_WEEK  \n",
       "0       0.10 2005-02-02      2   Wednesday  \n",
       "1       0.25 2004-05-12      5   Wednesday  \n",
       "2       0.10 2004-05-31      5      Monday  \n",
       "3       0.10 2004-06-28      6      Monday  \n",
       "4       0.10 2004-06-28      6      Monday  "
      ]
     },
     "execution_count": 15,
     "metadata": {},
     "output_type": "execute_result"
    }
   ],
   "source": [
    "df['MONTH'] = pd.DatetimeIndex(df['DATE']).month\n",
    "df['DATE'] = pd.to_datetime(df['DATE'])\n",
    "df['DAY_OF_WEEK'] = df['DATE'].dt.day_name()\n",
    "df_cause = df.copy()\n",
    "df.head()"
   ]
  },
  {
   "cell_type": "markdown",
   "id": "5928f712",
   "metadata": {},
   "source": [
    "# Most and Least fire Prone"
   ]
  },
  {
   "cell_type": "code",
   "execution_count": 69,
   "id": "5090b982",
   "metadata": {},
   "outputs": [
    {
     "data": {
      "image/png": "[encoded data removed]",
      "text/plain": [
       "<Figure size 432x288 with 1 Axes>"
      ]
     },
     "metadata": {
      "needs_background": "light"
     },
     "output_type": "display_data"
    }
   ],
   "source": [
    "df['STATE'].value_counts().head(n=15).plot(kind='barh',color='green')\n",
    "plt.show()"
   ]
  },
  {
   "cell_type": "code",
   "execution_count": 70,
   "id": "3c35ffa7",
   "metadata": {},
   "outputs": [
    {
     "data": {
      "image/png": "[encoded data removed]",
      "text/plain": [
       "<Figure size 432x288 with 1 Axes>"
      ]
     },
     "metadata": {
      "needs_background": "light"
     },
     "output_type": "display_data"
    }
   ],
   "source": [
    "df2 = pd.read_sql_query(\"SELECT SUM(FIRE_SIZE) AS SUM_FIRE_SIZE, State FROM Fires GROUP BY State;\", connect)\n",
    "df2 = df2.set_index(\"STATE\")\n",
    "df2[\"SUM_FIRE_SIZE\"].sort_values(ascending=False)[:15].plot(kind=\"bar\",color='green');"
   ]
  },
  {
   "cell_type": "code",
   "execution_count": null,
   "id": "1820241a",
   "metadata": {},
   "outputs": [],
   "source": [
    "# When it comes to the fire counts the most fire prone state is Carlifornia and least is New Mexico\n",
    "# When it comes to fire size the most is Alaska and least is Colorado."
   ]
  },
  {
   "cell_type": "markdown",
   "id": "794ff89c",
   "metadata": {},
   "source": [
    "# Predict the fire cause"
   ]
  },
  {
   "cell_type": "code",
   "execution_count": 21,
   "id": "320425df",
   "metadata": {},
   "outputs": [],
   "source": [
    "def preprocess(x):\n",
    "    preprocess = preprocessing.LabelEncoder()\n",
    "    x = preprocess.fit_transform(x)\n",
    "    return x\n",
    "    "
   ]
  },
  {
   "cell_type": "code",
   "execution_count": 22,
   "id": "9b12d8e9",
   "metadata": {},
   "outputs": [
    {
     "data": {
      "text/html": [
       "<div>\n",
       "<style scoped>\n",
       "    .dataframe tbody tr th:only-of-type {\n",
       "        vertical-align: middle;\n",
       "    }\n",
       "\n",
       "    .dataframe tbody tr th {\n",
       "        vertical-align: top;\n",
       "    }\n",
       "\n",
       "    .dataframe thead th {\n",
       "        text-align: right;\n",
       "    }\n",
       "</style>\n",
       "<table border=\"1\" class=\"dataframe\">\n",
       "  <thead>\n",
       "    <tr style=\"text-align: right;\">\n",
       "      <th></th>\n",
       "      <th>FIRE_YEAR</th>\n",
       "      <th>STAT_CAUSE_DESCR</th>\n",
       "      <th>LATITUDE</th>\n",
       "      <th>LONGITUDE</th>\n",
       "      <th>STATE</th>\n",
       "      <th>DISCOVERY_DATE</th>\n",
       "      <th>FIRE_SIZE</th>\n",
       "      <th>DATE</th>\n",
       "      <th>MONTH</th>\n",
       "      <th>DAY_OF_WEEK</th>\n",
       "    </tr>\n",
       "  </thead>\n",
       "  <tbody>\n",
       "    <tr>\n",
       "      <th>0</th>\n",
       "      <td>2005</td>\n",
       "      <td>7</td>\n",
       "      <td>40.036944</td>\n",
       "      <td>-121.005833</td>\n",
       "      <td>4</td>\n",
       "      <td>2453403.5</td>\n",
       "      <td>0.10</td>\n",
       "      <td>2005-02-02</td>\n",
       "      <td>2</td>\n",
       "      <td>6</td>\n",
       "    </tr>\n",
       "    <tr>\n",
       "      <th>1</th>\n",
       "      <td>2004</td>\n",
       "      <td>6</td>\n",
       "      <td>38.933056</td>\n",
       "      <td>-120.404444</td>\n",
       "      <td>4</td>\n",
       "      <td>2453137.5</td>\n",
       "      <td>0.25</td>\n",
       "      <td>2004-05-12</td>\n",
       "      <td>5</td>\n",
       "      <td>6</td>\n",
       "    </tr>\n",
       "    <tr>\n",
       "      <th>2</th>\n",
       "      <td>2004</td>\n",
       "      <td>3</td>\n",
       "      <td>38.984167</td>\n",
       "      <td>-120.735556</td>\n",
       "      <td>4</td>\n",
       "      <td>2453156.5</td>\n",
       "      <td>0.10</td>\n",
       "      <td>2004-05-31</td>\n",
       "      <td>5</td>\n",
       "      <td>1</td>\n",
       "    </tr>\n",
       "    <tr>\n",
       "      <th>3</th>\n",
       "      <td>2004</td>\n",
       "      <td>6</td>\n",
       "      <td>38.559167</td>\n",
       "      <td>-119.913333</td>\n",
       "      <td>4</td>\n",
       "      <td>2453184.5</td>\n",
       "      <td>0.10</td>\n",
       "      <td>2004-06-28</td>\n",
       "      <td>6</td>\n",
       "      <td>1</td>\n",
       "    </tr>\n",
       "    <tr>\n",
       "      <th>4</th>\n",
       "      <td>2004</td>\n",
       "      <td>6</td>\n",
       "      <td>38.559167</td>\n",
       "      <td>-119.933056</td>\n",
       "      <td>4</td>\n",
       "      <td>2453184.5</td>\n",
       "      <td>0.10</td>\n",
       "      <td>2004-06-28</td>\n",
       "      <td>6</td>\n",
       "      <td>1</td>\n",
       "    </tr>\n",
       "  </tbody>\n",
       "</table>\n",
       "</div>"
      ],
      "text/plain": [
       "   FIRE_YEAR  STAT_CAUSE_DESCR   LATITUDE   LONGITUDE  STATE  DISCOVERY_DATE  \\\n",
       "0       2005                 7  40.036944 -121.005833      4       2453403.5   \n",
       "1       2004                 6  38.933056 -120.404444      4       2453137.5   \n",
       "2       2004                 3  38.984167 -120.735556      4       2453156.5   \n",
       "3       2004                 6  38.559167 -119.913333      4       2453184.5   \n",
       "4       2004                 6  38.559167 -119.933056      4       2453184.5   \n",
       "\n",
       "   FIRE_SIZE       DATE  MONTH  DAY_OF_WEEK  \n",
       "0       0.10 2005-02-02      2            6  \n",
       "1       0.25 2004-05-12      5            6  \n",
       "2       0.10 2004-05-31      5            1  \n",
       "3       0.10 2004-06-28      6            1  \n",
       "4       0.10 2004-06-28      6            1  "
      ]
     },
     "execution_count": 22,
     "metadata": {},
     "output_type": "execute_result"
    }
   ],
   "source": [
    "df['STAT_CAUSE_DESCR'] = preprocess(df['STAT_CAUSE_DESCR'])\n",
    "df['STATE'] = preprocess(df['STATE'])\n",
    "df['DAY_OF_WEEK'] = preprocess(df['DAY_OF_WEEK'])\n",
    "df.head()\n"
   ]
  },
  {
   "cell_type": "code",
   "execution_count": 23,
   "id": "2579405f",
   "metadata": {},
   "outputs": [],
   "source": [
    "df = df.drop('DATE',axis=1)\n",
    "df = df.dropna()"
   ]
  },
  {
   "cell_type": "code",
   "execution_count": 24,
   "id": "033fe660",
   "metadata": {},
   "outputs": [
    {
     "data": {
      "text/html": [
       "<div>\n",
       "<style scoped>\n",
       "    .dataframe tbody tr th:only-of-type {\n",
       "        vertical-align: middle;\n",
       "    }\n",
       "\n",
       "    .dataframe tbody tr th {\n",
       "        vertical-align: top;\n",
       "    }\n",
       "\n",
       "    .dataframe thead th {\n",
       "        text-align: right;\n",
       "    }\n",
       "</style>\n",
       "<table border=\"1\" class=\"dataframe\">\n",
       "  <thead>\n",
       "    <tr style=\"text-align: right;\">\n",
       "      <th></th>\n",
       "      <th>FIRE_YEAR</th>\n",
       "      <th>STAT_CAUSE_DESCR</th>\n",
       "      <th>LATITUDE</th>\n",
       "      <th>LONGITUDE</th>\n",
       "      <th>STATE</th>\n",
       "      <th>DISCOVERY_DATE</th>\n",
       "      <th>FIRE_SIZE</th>\n",
       "      <th>MONTH</th>\n",
       "      <th>DAY_OF_WEEK</th>\n",
       "    </tr>\n",
       "  </thead>\n",
       "  <tbody>\n",
       "    <tr>\n",
       "      <th>0</th>\n",
       "      <td>2005</td>\n",
       "      <td>7</td>\n",
       "      <td>40.036944</td>\n",
       "      <td>-121.005833</td>\n",
       "      <td>4</td>\n",
       "      <td>2453403.5</td>\n",
       "      <td>0.10</td>\n",
       "      <td>2</td>\n",
       "      <td>6</td>\n",
       "    </tr>\n",
       "    <tr>\n",
       "      <th>1</th>\n",
       "      <td>2004</td>\n",
       "      <td>6</td>\n",
       "      <td>38.933056</td>\n",
       "      <td>-120.404444</td>\n",
       "      <td>4</td>\n",
       "      <td>2453137.5</td>\n",
       "      <td>0.25</td>\n",
       "      <td>5</td>\n",
       "      <td>6</td>\n",
       "    </tr>\n",
       "    <tr>\n",
       "      <th>2</th>\n",
       "      <td>2004</td>\n",
       "      <td>3</td>\n",
       "      <td>38.984167</td>\n",
       "      <td>-120.735556</td>\n",
       "      <td>4</td>\n",
       "      <td>2453156.5</td>\n",
       "      <td>0.10</td>\n",
       "      <td>5</td>\n",
       "      <td>1</td>\n",
       "    </tr>\n",
       "    <tr>\n",
       "      <th>3</th>\n",
       "      <td>2004</td>\n",
       "      <td>6</td>\n",
       "      <td>38.559167</td>\n",
       "      <td>-119.913333</td>\n",
       "      <td>4</td>\n",
       "      <td>2453184.5</td>\n",
       "      <td>0.10</td>\n",
       "      <td>6</td>\n",
       "      <td>1</td>\n",
       "    </tr>\n",
       "    <tr>\n",
       "      <th>4</th>\n",
       "      <td>2004</td>\n",
       "      <td>6</td>\n",
       "      <td>38.559167</td>\n",
       "      <td>-119.933056</td>\n",
       "      <td>4</td>\n",
       "      <td>2453184.5</td>\n",
       "      <td>0.10</td>\n",
       "      <td>6</td>\n",
       "      <td>1</td>\n",
       "    </tr>\n",
       "  </tbody>\n",
       "</table>\n",
       "</div>"
      ],
      "text/plain": [
       "   FIRE_YEAR  STAT_CAUSE_DESCR   LATITUDE   LONGITUDE  STATE  DISCOVERY_DATE  \\\n",
       "0       2005                 7  40.036944 -121.005833      4       2453403.5   \n",
       "1       2004                 6  38.933056 -120.404444      4       2453137.5   \n",
       "2       2004                 3  38.984167 -120.735556      4       2453156.5   \n",
       "3       2004                 6  38.559167 -119.913333      4       2453184.5   \n",
       "4       2004                 6  38.559167 -119.933056      4       2453184.5   \n",
       "\n",
       "   FIRE_SIZE  MONTH  DAY_OF_WEEK  \n",
       "0       0.10      2            6  \n",
       "1       0.25      5            6  \n",
       "2       0.10      5            1  \n",
       "3       0.10      6            1  \n",
       "4       0.10      6            1  "
      ]
     },
     "execution_count": 24,
     "metadata": {},
     "output_type": "execute_result"
    }
   ],
   "source": [
    "df.head()"
   ]
  },
  {
   "cell_type": "code",
   "execution_count": null,
   "id": "0476e728",
   "metadata": {},
   "outputs": [],
   "source": [
    "# Feature data - LOCATION, STATE, FIRE_SIZE, DATE\n",
    "# Label(To predict) - Cause of Fire(STAT_CAUSE_DESCR)"
   ]
  },
  {
   "cell_type": "code",
   "execution_count": null,
   "id": "2e3de9e3",
   "metadata": {},
   "outputs": [],
   "source": [
    "#Combining different causes into four categories\n",
    "#0 -> Natural\n",
    "#1 -> Accidental\n",
    "#2 -> Malicious\n",
    "#3 -> Other"
   ]
  },
  {
   "cell_type": "code",
   "execution_count": 25,
   "id": "a00c96d2",
   "metadata": {},
   "outputs": [],
   "source": [
    "def label(x):\n",
    "    cause = 0\n",
    "    natural = ['Lightning']\n",
    "    accidental = ['Structure','Fireworks','Powerline','Railroad','Smoking','Children','Campfire','Equipment Use','Debris Burning']\n",
    "    malicious = ['Arson']\n",
    "    other = ['Missing/Undefined','Miscellaneous']\n",
    "    if x in natural:\n",
    "        return 0\n",
    "    elif x in accidental:\n",
    "        return 1\n",
    "    elif x in malicious:\n",
    "        return 2\n",
    "    else:\n",
    "        return 3\n",
    "\n",
    "df['LABEL'] = df_cause['STAT_CAUSE_DESCR'].apply(lambda x: label(x))\n",
    "df = df.drop('STAT_CAUSE_DESCR',axis=1)"
   ]
  },
  {
   "cell_type": "code",
   "execution_count": 26,
   "id": "8d69f616",
   "metadata": {},
   "outputs": [
    {
     "data": {
      "text/html": [
       "<div>\n",
       "<style scoped>\n",
       "    .dataframe tbody tr th:only-of-type {\n",
       "        vertical-align: middle;\n",
       "    }\n",
       "\n",
       "    .dataframe tbody tr th {\n",
       "        vertical-align: top;\n",
       "    }\n",
       "\n",
       "    .dataframe thead th {\n",
       "        text-align: right;\n",
       "    }\n",
       "</style>\n",
       "<table border=\"1\" class=\"dataframe\">\n",
       "  <thead>\n",
       "    <tr style=\"text-align: right;\">\n",
       "      <th></th>\n",
       "      <th>FIRE_YEAR</th>\n",
       "      <th>LATITUDE</th>\n",
       "      <th>LONGITUDE</th>\n",
       "      <th>STATE</th>\n",
       "      <th>DISCOVERY_DATE</th>\n",
       "      <th>FIRE_SIZE</th>\n",
       "      <th>MONTH</th>\n",
       "      <th>DAY_OF_WEEK</th>\n",
       "      <th>LABEL</th>\n",
       "    </tr>\n",
       "  </thead>\n",
       "  <tbody>\n",
       "    <tr>\n",
       "      <th>0</th>\n",
       "      <td>2005</td>\n",
       "      <td>40.036944</td>\n",
       "      <td>-121.005833</td>\n",
       "      <td>4</td>\n",
       "      <td>2453403.5</td>\n",
       "      <td>0.10</td>\n",
       "      <td>2</td>\n",
       "      <td>6</td>\n",
       "      <td>3</td>\n",
       "    </tr>\n",
       "    <tr>\n",
       "      <th>1</th>\n",
       "      <td>2004</td>\n",
       "      <td>38.933056</td>\n",
       "      <td>-120.404444</td>\n",
       "      <td>4</td>\n",
       "      <td>2453137.5</td>\n",
       "      <td>0.25</td>\n",
       "      <td>5</td>\n",
       "      <td>6</td>\n",
       "      <td>0</td>\n",
       "    </tr>\n",
       "    <tr>\n",
       "      <th>2</th>\n",
       "      <td>2004</td>\n",
       "      <td>38.984167</td>\n",
       "      <td>-120.735556</td>\n",
       "      <td>4</td>\n",
       "      <td>2453156.5</td>\n",
       "      <td>0.10</td>\n",
       "      <td>5</td>\n",
       "      <td>1</td>\n",
       "      <td>1</td>\n",
       "    </tr>\n",
       "    <tr>\n",
       "      <th>3</th>\n",
       "      <td>2004</td>\n",
       "      <td>38.559167</td>\n",
       "      <td>-119.913333</td>\n",
       "      <td>4</td>\n",
       "      <td>2453184.5</td>\n",
       "      <td>0.10</td>\n",
       "      <td>6</td>\n",
       "      <td>1</td>\n",
       "      <td>0</td>\n",
       "    </tr>\n",
       "    <tr>\n",
       "      <th>4</th>\n",
       "      <td>2004</td>\n",
       "      <td>38.559167</td>\n",
       "      <td>-119.933056</td>\n",
       "      <td>4</td>\n",
       "      <td>2453184.5</td>\n",
       "      <td>0.10</td>\n",
       "      <td>6</td>\n",
       "      <td>1</td>\n",
       "      <td>0</td>\n",
       "    </tr>\n",
       "  </tbody>\n",
       "</table>\n",
       "</div>"
      ],
      "text/plain": [
       "   FIRE_YEAR   LATITUDE   LONGITUDE  STATE  DISCOVERY_DATE  FIRE_SIZE  MONTH  \\\n",
       "0       2005  40.036944 -121.005833      4       2453403.5       0.10      2   \n",
       "1       2004  38.933056 -120.404444      4       2453137.5       0.25      5   \n",
       "2       2004  38.984167 -120.735556      4       2453156.5       0.10      5   \n",
       "3       2004  38.559167 -119.913333      4       2453184.5       0.10      6   \n",
       "4       2004  38.559167 -119.933056      4       2453184.5       0.10      6   \n",
       "\n",
       "   DAY_OF_WEEK  LABEL  \n",
       "0            6      3  \n",
       "1            6      0  \n",
       "2            1      1  \n",
       "3            1      0  \n",
       "4            1      0  "
      ]
     },
     "execution_count": 26,
     "metadata": {},
     "output_type": "execute_result"
    }
   ],
   "source": [
    "df.head()"
   ]
  },
  {
   "cell_type": "raw",
   "id": "fdb1c8cc",
   "metadata": {},
   "source": [
    "Using Random Forest Classifier to train the data"
   ]
  },
  {
   "cell_type": "code",
   "execution_count": 29,
   "id": "24306f07",
   "metadata": {},
   "outputs": [],
   "source": [
    "X = df.drop(['LABEL','FIRE_YEAR','STATE'], axis=1).values\n",
    "y = df['LABEL'].values\n",
    "y_hat = to_categorical(y, 4)\n",
    "X_train, X_test, y_train, y_test = train_test_split(X,y_hat,test_size=0.3, random_state=0)\n"
   ]
  },
  {
   "cell_type": "code",
   "execution_count": 16,
   "id": "7d4ab436",
   "metadata": {},
   "outputs": [
    {
     "name": "stdout",
     "output_type": "stream",
     "text": [
      "0.6098379834792782\n"
     ]
    }
   ],
   "source": [
    "random_forest = ske.RandomForestClassifier(n_estimators=50)\n",
    "random_forest = random_forest.fit(X_train, y_train)\n",
    "print(random_forest.score(X_test,y_test))"
   ]
  },
  {
   "cell_type": "code",
   "execution_count": 21,
   "id": "0dd49f90",
   "metadata": {},
   "outputs": [],
   "source": [
    "# Saving the model in pickel format\n",
    "#pickle.dump(random_forest,open('randomforest_model.pkl','wb'))"
   ]
  },
  {
   "cell_type": "code",
   "execution_count": 22,
   "id": "5a1747e1",
   "metadata": {},
   "outputs": [],
   "source": [
    "# Loading the model\n",
    "#model = pickle.load(open('randomforest_model.pkl','rb'))"
   ]
  },
  {
   "cell_type": "code",
   "execution_count": 54,
   "id": "6cba67ec",
   "metadata": {},
   "outputs": [],
   "source": [
    "# After downloading the trained model(zip file)from GitHub unzip it and give the path name of the model\n",
    "\n",
    "model = pickle.load(open('C:\\\\Users\\\\sanja\\\\app\\\\fire_prediction\\\\rf_model\\\\randomforest_model.pkl','rb'))\n"
   ]
  },
  {
   "cell_type": "markdown",
   "id": "bef203d8",
   "metadata": {},
   "source": [
    "# INFERENCE"
   ]
  },
  {
   "cell_type": "code",
   "execution_count": 23,
   "id": "51e5e3e0",
   "metadata": {},
   "outputs": [
    {
     "data": {
      "text/html": [
       "<div>\n",
       "<style scoped>\n",
       "    .dataframe tbody tr th:only-of-type {\n",
       "        vertical-align: middle;\n",
       "    }\n",
       "\n",
       "    .dataframe tbody tr th {\n",
       "        vertical-align: top;\n",
       "    }\n",
       "\n",
       "    .dataframe thead th {\n",
       "        text-align: right;\n",
       "    }\n",
       "</style>\n",
       "<table border=\"1\" class=\"dataframe\">\n",
       "  <thead>\n",
       "    <tr style=\"text-align: right;\">\n",
       "      <th></th>\n",
       "      <th>LATITUDE</th>\n",
       "      <th>LONGITUDE</th>\n",
       "      <th>DISCOVERY_DATE</th>\n",
       "      <th>FIRE_SIZE</th>\n",
       "      <th>MONTH</th>\n",
       "      <th>DAY_OF_WEEK</th>\n",
       "    </tr>\n",
       "  </thead>\n",
       "  <tbody>\n",
       "    <tr>\n",
       "      <th>0</th>\n",
       "      <td>40.036944</td>\n",
       "      <td>-121.005833</td>\n",
       "      <td>2453403.5</td>\n",
       "      <td>0.10</td>\n",
       "      <td>2</td>\n",
       "      <td>6</td>\n",
       "    </tr>\n",
       "    <tr>\n",
       "      <th>1</th>\n",
       "      <td>38.933056</td>\n",
       "      <td>-120.404444</td>\n",
       "      <td>2453137.5</td>\n",
       "      <td>0.25</td>\n",
       "      <td>5</td>\n",
       "      <td>6</td>\n",
       "    </tr>\n",
       "    <tr>\n",
       "      <th>2</th>\n",
       "      <td>38.984167</td>\n",
       "      <td>-120.735556</td>\n",
       "      <td>2453156.5</td>\n",
       "      <td>0.10</td>\n",
       "      <td>5</td>\n",
       "      <td>1</td>\n",
       "    </tr>\n",
       "    <tr>\n",
       "      <th>3</th>\n",
       "      <td>38.559167</td>\n",
       "      <td>-119.913333</td>\n",
       "      <td>2453184.5</td>\n",
       "      <td>0.10</td>\n",
       "      <td>6</td>\n",
       "      <td>1</td>\n",
       "    </tr>\n",
       "    <tr>\n",
       "      <th>4</th>\n",
       "      <td>38.559167</td>\n",
       "      <td>-119.933056</td>\n",
       "      <td>2453184.5</td>\n",
       "      <td>0.10</td>\n",
       "      <td>6</td>\n",
       "      <td>1</td>\n",
       "    </tr>\n",
       "    <tr>\n",
       "      <th>...</th>\n",
       "      <td>...</td>\n",
       "      <td>...</td>\n",
       "      <td>...</td>\n",
       "      <td>...</td>\n",
       "      <td>...</td>\n",
       "      <td>...</td>\n",
       "    </tr>\n",
       "    <tr>\n",
       "      <th>1880460</th>\n",
       "      <td>40.481637</td>\n",
       "      <td>-122.389375</td>\n",
       "      <td>2457291.5</td>\n",
       "      <td>0.01</td>\n",
       "      <td>9</td>\n",
       "      <td>2</td>\n",
       "    </tr>\n",
       "    <tr>\n",
       "      <th>1880461</th>\n",
       "      <td>37.617619</td>\n",
       "      <td>-120.938570</td>\n",
       "      <td>2457300.5</td>\n",
       "      <td>0.20</td>\n",
       "      <td>10</td>\n",
       "      <td>1</td>\n",
       "    </tr>\n",
       "    <tr>\n",
       "      <th>1880462</th>\n",
       "      <td>37.617619</td>\n",
       "      <td>-120.938570</td>\n",
       "      <td>2457144.5</td>\n",
       "      <td>0.10</td>\n",
       "      <td>5</td>\n",
       "      <td>2</td>\n",
       "    </tr>\n",
       "    <tr>\n",
       "      <th>1880463</th>\n",
       "      <td>37.672235</td>\n",
       "      <td>-120.898356</td>\n",
       "      <td>2457309.5</td>\n",
       "      <td>2.00</td>\n",
       "      <td>10</td>\n",
       "      <td>6</td>\n",
       "    </tr>\n",
       "    <tr>\n",
       "      <th>1880464</th>\n",
       "      <td>34.263217</td>\n",
       "      <td>-116.830950</td>\n",
       "      <td>2457095.5</td>\n",
       "      <td>0.10</td>\n",
       "      <td>3</td>\n",
       "      <td>2</td>\n",
       "    </tr>\n",
       "  </tbody>\n",
       "</table>\n",
       "<p>1880465 rows × 6 columns</p>\n",
       "</div>"
      ],
      "text/plain": [
       "          LATITUDE   LONGITUDE  DISCOVERY_DATE  FIRE_SIZE  MONTH  DAY_OF_WEEK\n",
       "0        40.036944 -121.005833       2453403.5       0.10      2            6\n",
       "1        38.933056 -120.404444       2453137.5       0.25      5            6\n",
       "2        38.984167 -120.735556       2453156.5       0.10      5            1\n",
       "3        38.559167 -119.913333       2453184.5       0.10      6            1\n",
       "4        38.559167 -119.933056       2453184.5       0.10      6            1\n",
       "...            ...         ...             ...        ...    ...          ...\n",
       "1880460  40.481637 -122.389375       2457291.5       0.01      9            2\n",
       "1880461  37.617619 -120.938570       2457300.5       0.20     10            1\n",
       "1880462  37.617619 -120.938570       2457144.5       0.10      5            2\n",
       "1880463  37.672235 -120.898356       2457309.5       2.00     10            6\n",
       "1880464  34.263217 -116.830950       2457095.5       0.10      3            2\n",
       "\n",
       "[1880465 rows x 6 columns]"
      ]
     },
     "execution_count": 23,
     "metadata": {},
     "output_type": "execute_result"
    }
   ],
   "source": [
    "df.drop(['LABEL', 'FIRE_YEAR', 'STATE'], axis=1)"
   ]
  },
  {
   "cell_type": "code",
   "execution_count": 35,
   "id": "de6112be",
   "metadata": {},
   "outputs": [],
   "source": [
    "causes = {}\n",
    "incidents = ['Natural', 'Accidental', 'Malicious', 'Other']\n",
    "\n",
    "for i,cause in enumerate(incidents):\n",
    "    causes[i] = cause\n",
    "    "
   ]
  },
  {
   "cell_type": "code",
   "execution_count": 53,
   "id": "fb0f32bb",
   "metadata": {},
   "outputs": [
    {
     "name": "stdout",
     "output_type": "stream",
     "text": [
      "Input Latititude: 40.036\n",
      "Input Longitude: 121.005\n",
      "Fire Size: 0.10\n",
      "Discovery date: 2453403.5\n",
      "Input Month: 2\n",
      "Input Day of Week: 6\n"
     ]
    }
   ],
   "source": [
    "## Manually entering the feature data to predict the cause of the fire\n",
    "\n",
    "Latitude = float(input('Input Latititude: '))\n",
    "Longitude = float(input('Input Longitude: '))\n",
    "Fire_Size = float(input('Fire Size: '))\n",
    "discovery_date = float(input('Discovery date: '))\n",
    "Month = float(input('Input Month: '))\n",
    "Day_Of_Week = float(input('Input Day of Week: '))\n"
   ]
  },
  {
   "cell_type": "code",
   "execution_count": null,
   "id": "e6f1d0ae",
   "metadata": {},
   "outputs": [],
   "source": [
    "# REFERENCE\n",
    "\n",
    "# 0->natural = ['Lightning']\n",
    "# 1->accidental = ['Structure','Fireworks','Powerline','Railroad','Smoking','Children','Campfire','Equipment Use','Debris Burning']\n",
    "# 2->malicious = ['Arson']\n",
    "# 3->other = ['Missing/Undefined','Miscellaneous']"
   ]
  },
  {
   "cell_type": "code",
   "execution_count": 55,
   "id": "c562e84c",
   "metadata": {},
   "outputs": [],
   "source": [
    "def predict(test):\n",
    "    probability = []\n",
    "    \n",
    "    temp = model.predict_proba(test.reshape((1, 6)))\n",
    "    for i in range(len(temp)):\n",
    "        probability.append(temp[i][0][1])\n",
    "        print(causes[i],':', temp[i][0][1])\n",
    "    maximum=max(probability)\n",
    "    index = probability.index(maximum)\n",
    "    print('Fire Caused by :',causes[index])\n",
    "    plt.bar(causes.values(), probability)\n",
    "    "
   ]
  },
  {
   "cell_type": "code",
   "execution_count": 56,
   "id": "c332e2a5",
   "metadata": {},
   "outputs": [
    {
     "name": "stdout",
     "output_type": "stream",
     "text": [
      "Natural : 0.0\n",
      "Accidental : 0.24\n",
      "Malicious : 0.5\n",
      "Other : 0.26\n",
      "Fire Caused by : Malicious\n"
     ]
    },
    {
     "data": {
      "image/png": "[encoded data removed]",
      "text/plain": [
       "<Figure size 432x288 with 1 Axes>"
      ]
     },
     "metadata": {
      "needs_background": "light"
     },
     "output_type": "display_data"
    }
   ],
   "source": [
    "features=[Latitude, Longitude, Fire_Size, discovery_date, Month, Day_Of_Week]\n",
    "test = np.array(features)\n",
    "prediction = predict(test)\n"
   ]
  },
  {
   "cell_type": "code",
   "execution_count": 124,
   "id": "057bff7b",
   "metadata": {},
   "outputs": [
    {
     "name": "stdout",
     "output_type": "stream",
     "text": [
      "              precision    recall  f1-score   support\n",
      "\n",
      "           0       0.42      0.90      0.57     83316\n",
      "           1       0.72      0.70      0.71    249328\n",
      "           2       0.70      0.36      0.47     84170\n",
      "           3       0.79      0.53      0.63    147326\n",
      "\n",
      "    accuracy                           0.63    564140\n",
      "   macro avg       0.66      0.62      0.60    564140\n",
      "weighted avg       0.69      0.63      0.63    564140\n",
      "\n"
     ]
    },
    {
     "data": {
      "image/png": "[encoded data removed]",
      "text/plain": [
       "<Figure size 720x720 with 1 Axes>"
      ]
     },
     "metadata": {
      "needs_background": "light"
     },
     "output_type": "display_data"
    }
   ],
   "source": [
    "from sklearn.metrics import confusion_matrix, classification_report\n",
    "\n",
    "y_pred = random_forest.predict(X_test)\n",
    "\n",
    "cm = confusion_matrix(y_true=y_test.argmax(axis=1),y_pred=y_pred.argmax(axis=1))\n",
    "cr = classification_report(y_true=y_test.argmax(axis=1),y_pred=y_pred.argmax(axis=1))\n",
    "\n",
    "print(cr)\n",
    "\n",
    "cmn = cm.astype('float') / cm.sum(axis=1)[:, np.newaxis]\n",
    "\n",
    "fig,ax = plt.subplots(figsize=(10,10))\n",
    "ax.matshow(cmn,cmap=plt.cm.Oranges,alpha=0.7)\n",
    "\n",
    "for i in range(cmn.shape[0]):\n",
    "    for j in range(cmn.shape[1]):\n",
    "        ax.text(x=j,y=i,s=cmn[i,j],va='center',ha='center')\n",
    "        \n",
    "plt.xlabel('predicted label')\n",
    "plt.ylabel('true label')\n",
    "plt.show()"
   ]
  },
  {
   "cell_type": "code",
   "execution_count": null,
   "id": "63f5d147",
   "metadata": {},
   "outputs": [],
   "source": [
    "# The cause of the fire was predicted using Random Forest Classifier which gave the score of 61%.\n",
    "# From Confusion matrix we can see that level of prediction is low for class 2(malicious = ['Arson']) and 3(other = ['Missing/Undefined','Miscellaneous']) \n",
    "\n",
    "# Here I have used bagging method Random Forest Classifier and wouldnot explore more on Boosting method given the processing power of my CPU."
   ]
  }
 ],
 "metadata": {
  "kernelspec": {
   "display_name": "Python 3 (ipykernel)",
   "language": "python",
   "name": "python3"
  },
  "language_info": {
   "codemirror_mode": {
    "name": "ipython",
    "version": 3
   },
   "file_extension": ".py",
   "mimetype": "text/x-python",
   "name": "python",
   "nbconvert_exporter": "python",
   "pygments_lexer": "ipython3",
   "version": "3.8.5"
  }
 },
 "nbformat": 4,
 "nbformat_minor": 5
}
